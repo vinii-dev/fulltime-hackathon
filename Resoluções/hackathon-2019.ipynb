{
  "nbformat": 4,
  "nbformat_minor": 0,
  "metadata": {
    "colab": {
      "name": "hackathon.ipynb",
      "provenance": [],
      "collapsed_sections": [],
      "authorship_tag": "ABX9TyP1nXUE5CPnTyY1M6C/h/5x",
      "include_colab_link": true
    },
    "kernelspec": {
      "name": "python3",
      "display_name": "Python 3"
    },
    "language_info": {
      "name": "python"
    }
  },
  "cells": [
    {
      "cell_type": "markdown",
      "metadata": {
        "id": "view-in-github",
        "colab_type": "text"
      },
      "source": [
        "<a href=\"https://colab.research.google.com/github/vinii-dev/fulltime-hackathon/blob/main/Resolu%C3%A7%C3%B5es/hackathon-2019.ipynb\" target=\"_parent\"><img src=\"https://colab.research.google.com/assets/colab-badge.svg\" alt=\"Open In Colab\"/></a>"
      ]
    },
    {
      "cell_type": "markdown",
      "metadata": {
        "id": "_9Rh1xf2SjHi"
      },
      "source": [
        "#**Hackathon Fulltime 2019**"
      ]
    },
    {
      "cell_type": "markdown",
      "source": [
        "### **Observações**\n",
        "*   **As mensagens em verde, na frente do #, são apenas comentários, elas não influenciaram no código, a função delas nesse arquivo é apenas para explicar o código.**\n",
        "*   **A parte de *Funções Globais* é colocado pedaços de códigos que se repetem muito, como a de limitar o dado inserido que tem em cada questão**\n",
        "\n"
      ],
      "metadata": {
        "id": "P0Z3XSTyQ_t6"
      }
    },
    {
      "cell_type": "markdown",
      "metadata": {
        "id": "r-ella6bSyqB"
      },
      "source": [
        "### **Funções Globais**"
      ]
    },
    {
      "cell_type": "markdown",
      "source": [
        "**Execute as funções globais para que os códigos funcionem**"
      ],
      "metadata": {
        "id": "LfvEQ4V-UY-w"
      }
    },
    {
      "cell_type": "code",
      "metadata": {
        "id": "9Y3zMv7JOC2t"
      },
      "source": [
        "# Limita o número inserido, fazendo um loop até que o valor correto seja dado\n",
        "def limit_input(n, min_n, max_n, message = \"\"):\n",
        "  if n > min_n and n < max_n:\n",
        "    return n\n",
        "\n",
        "  else:\n",
        "    # Volta para função retornando um novo número digitado novamente pelo \n",
        "    # usuário, caso o número não esteja entre os valores minímo e máximo\n",
        "    if message == \"\":\n",
        "      message = \"Por favor, digite outro número. \"+\n",
        "                f\"O número deve ser entre {min_n} e {max_n}\\n\"\n",
        "\n",
        "    limit_input(int(input(message)), min_n, max_n)"
      ],
      "execution_count": null,
      "outputs": []
    },
    {
      "cell_type": "markdown",
      "metadata": {
        "id": "pIwgpE-bSQK3"
      },
      "source": [
        "\n",
        "### **Problema A - Brincadeira do PIM**"
      ]
    },
    {
      "cell_type": "markdown",
      "source": [
        "Escreva um programa que leia dois valores X e Y. A seguir, mostre uma sequência de 1 até Y, passando para a próxima\n",
        "linha a cada X números. E junto aos múltiplos de X, a palavra “PIM” deverá ser mostrada ao invés do valor."
      ],
      "metadata": {
        "id": "hWCJsA72R5ra"
      }
    },
    {
      "cell_type": "markdown",
      "source": [
        " **Entrada**"
      ],
      "metadata": {
        "id": "yrex9zKVSGfJ"
      }
    },
    {
      "cell_type": "markdown",
      "source": [
        "Dois valores inteiros, (1 < X < 20) e (X < Y < 100000)."
      ],
      "metadata": {
        "id": "7ake5kUKSOhQ"
      }
    },
    {
      "cell_type": "code",
      "metadata": {
        "id": "nm0nOdcxHsxh"
      },
      "source": [
        "# Guarda os dados inseridos e verifica se seguem a regra proposta:(1 < X < 20) e (X < Y < 100000)\n",
        "x = limit_input(int(input()), 1, 20)\n",
        "y = limit_input(int(input()), x, 100000)"
      ],
      "execution_count": null,
      "outputs": []
    },
    {
      "cell_type": "markdown",
      "source": [
        "**Saída** "
      ],
      "metadata": {
        "id": "UoBjQAH3SQoZ"
      }
    },
    {
      "cell_type": "markdown",
      "source": [
        "Cada sequência deve ser impressa em uma linha apenas, com 1 espaço em branco entre cada número, conforme exemplo\n",
        "abaixo. Não deve haver espaço em branco após o último valor da linha."
      ],
      "metadata": {
        "id": "fYdaW1WDST-J"
      }
    },
    {
      "cell_type": "code",
      "metadata": {
        "id": "iNtJx7zFQisv"
      },
      "source": [
        "# Faz um loop pela de 1 até o número inserido no Y\n",
        "for i in range(1, y+1):\n",
        "  # Verifica se o número atual do loop (i) é divisível pelo x e, se for, é feito um print de PIM\n",
        "  if (i % x) == 0: \n",
        "    print(\"PIM\")\n",
        "    \n",
        "  # Caso o de cima seja falso, é feito print do número atual seguido de um espaço\n",
        "  else: \n",
        "    print(f\"{i} \", end=\"\")"
      ],
      "execution_count": null,
      "outputs": []
    },
    {
      "cell_type": "markdown",
      "metadata": {
        "id": "7IW8lf3_S8d-"
      },
      "source": [
        "###**Problema B - Acima da Média**"
      ]
    },
    {
      "cell_type": "markdown",
      "source": [
        "Sabe-se que 90% dos calouros tem sempre a expectativa de serem acima da média no início de suas graduações. Você\n",
        "deve checar a realidade para ver se isso procede."
      ],
      "metadata": {
        "id": "O3P8-ZEARz13"
      }
    },
    {
      "cell_type": "markdown",
      "source": [
        "**Entrada**"
      ],
      "metadata": {
        "id": "DbsAnLp6Sw2O"
      }
    },
    {
      "cell_type": "markdown",
      "source": [
        "A entrada contém um inteiro N, que é o número de pessoas de uma turma (1 ≤ N ≤ 1000). Seguem N inteiros, separados\n",
        "por espaços, cada um indicando a média final (um inteiro entre 0 e 100) de cada um dos estudantes desta turma."
      ],
      "metadata": {
        "id": "cIxsvyViSy2N"
      }
    },
    {
      "cell_type": "code",
      "metadata": {
        "id": "wIVllxDKTVe2"
      },
      "source": [
        "# Guarda o primeiro número (quantidade de alunos) numa variável e as notas dele em outra variável (lista)\n",
        "alunos_quant, *medias = list(map(int, input().split()))\n",
        "\n",
        "# Verifica se a quantidade de alunos corresponde a regra proposta: (1 ≤ N ≤ 1000)\n",
        "alunos_quant = limit_input(\n",
        "    n = alunos_quant, \n",
        "    min_n = 0,\n",
        "    max_n = 1001,\n",
        "    message=\"A quantidade de estudantes digitada é maior que 1000 ou menor que 0. Por favor, digite um valor entre esses dois valores (0 e 1000)\")\n",
        "\n",
        "# Verifica se cada nota corresponde a regra proposta: (um inteiro entre 0 e 100)\n",
        "medias = list(map(lambda x: limit_input(x, -1, 101), medias))"
      ],
      "execution_count": null,
      "outputs": []
    },
    {
      "cell_type": "markdown",
      "source": [
        "**Saída**"
      ],
      "metadata": {
        "id": "4EGHmMm1S1i_"
      }
    },
    {
      "cell_type": "markdown",
      "source": [
        "Imprima uma linha dando o percentual de estudantes que estão acima da média da turma, com o valor arredondado e\n",
        "com 3 casas decimais."
      ],
      "metadata": {
        "id": "yAnQNsPOS5dH"
      }
    },
    {
      "cell_type": "code",
      "source": [
        "media_turma = medias.mean() # Calcula a média da turma\n",
        "quant_alunos_acima_media = len(list(filter(lambda x: x > media_turma, medias))) # Calcula quantas pessoas estão em cima da média \n",
        "\n",
        "# Calcula a porcentagem de alunos acima da média e formata para três casas decimais\n",
        "porcent_alunos_acima_media = format((100*quant_alunos_acima_media)/alunos_quant, \".3f\")\n",
        "\n",
        "# Faz o print da porcentagem de pessoas acima da média\n",
        "print(f\"{porcent_alunos_acima_media}%\")"
      ],
      "metadata": {
        "id": "SCg_aKw4jKLt"
      },
      "execution_count": null,
      "outputs": []
    }
  ]
}